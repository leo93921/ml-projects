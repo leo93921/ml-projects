{
 "cells": [
  {
   "cell_type": "markdown",
   "metadata": {},
   "source": [
    "# Regularized Polynomial Regression\n",
    "Regolarizzazione: serve per evitare overfitting.\n",
    "Si può usare PCA, ma si va su nuovo spazio di lavoro e quindi difficoltà nell'interpretazione dei dati e features."
   ]
  },
  {
   "cell_type": "code",
   "execution_count": 1,
   "metadata": {},
   "outputs": [],
   "source": [
    "import numpy as np\n",
    "import matplotlib.pyplot as plt \n",
    "\n",
    "import pandas as pd  \n",
    "import seaborn as sns \n",
    "\n",
    "%matplotlib inline\n",
    "\n",
    "from sklearn.datasets import load_boston\n",
    "from sklearn.linear_model import LinearRegression\n",
    "from sklearn.metrics import mean_squared_error\n",
    "\n",
    "np.random.seed(10)\n",
    "\n",
    "boston_dataset = load_boston()"
   ]
  },
  {
   "cell_type": "code",
   "execution_count": 2,
   "metadata": {},
   "outputs": [],
   "source": [
    "def gradient_descent_vectorized(x, y, theta = [[0], [0]], alpha = 0.01, num_iters = 400, epsilon = 0.0001):\n",
    "    J_history = np.zeros((num_iters))\n",
    "    early_stop = -1;\n",
    "    for k in range(num_iters):\n",
    "        h = x.dot(theta)\n",
    "        theta = theta - (alpha/m)*(x.T.dot(h-y))\n",
    "        J_history[k] = compute_cost_vectorized(x, y, theta)\n",
    "    return theta, J_history\n",
    "def compute_cost_vectorized(x, y, theta):\n",
    "    m = x.shape[0]\n",
    "    h = x.dot(theta)\n",
    "    J = (h-y).T.dot(h-y)\n",
    "    return J/(2*m)\n",
    "def find_flat(history, epsilon = 0.001):\n",
    "    for k in range(1, history.size):\n",
    "        if (history[k-1] - history[k] < epsilon):\n",
    "            return k;\n",
    "    return -1\n",
    "def normal_equations(x, y):\n",
    "    return np.linalg.pinv(x.T.dot(x)).dot(x.T).dot(y)\n",
    "def polynomial_features(x, degree):\n",
    "    for i in range(1, degree):\n",
    "        label = VARIABLE + '_%d'%(i+1)\n",
    "        x[label] = x[VARIABLE]**(i+1)\n",
    "    return x\n",
    "def feature_normalize(x):\n",
    "    x_norm = x\n",
    "    \n",
    "    mu = np.zeros((1, x.shape[1]))\n",
    "    sigma = np.zeros((1, x.shape[1]))\n",
    "    \n",
    "    mu = np.mean(x, axis = 0) # mean value\n",
    "    sigma = np.std(x, axis = 0) # std deviation value\n",
    "    \n",
    "    for i in range(x.shape[1]):\n",
    "        x_norm[:,i] = (x[:,i] - mu[i])/sigma[i]\n",
    "        \n",
    "    return x_norm, mu, sigma"
   ]
  },
  {
   "cell_type": "code",
   "execution_count": 3,
   "metadata": {},
   "outputs": [
    {
     "name": "stdout",
     "output_type": "stream",
     "text": [
      "dict_keys(['data', 'target', 'feature_names', 'DESCR', 'filename'])\n"
     ]
    }
   ],
   "source": [
    "print(boston_dataset.keys())"
   ]
  },
  {
   "cell_type": "markdown",
   "metadata": {},
   "source": [
    "data = prezzi case\n",
    "data = contiene info di case"
   ]
  },
  {
   "cell_type": "code",
   "execution_count": 4,
   "metadata": {},
   "outputs": [
    {
     "name": "stdout",
     "output_type": "stream",
     "text": [
      ".. _boston_dataset:\n",
      "\n",
      "Boston house prices dataset\n",
      "---------------------------\n",
      "\n",
      "**Data Set Characteristics:**  \n",
      "\n",
      "    :Number of Instances: 506 \n",
      "\n",
      "    :Number of Attributes: 13 numeric/categorical predictive. Median Value (attribute 14) is usually the target.\n",
      "\n",
      "    :Attribute Information (in order):\n",
      "        - CRIM     per capita crime rate by town\n",
      "        - ZN       proportion of residential land zoned for lots over 25,000 sq.ft.\n",
      "        - INDUS    proportion of non-retail business acres per town\n",
      "        - CHAS     Charles River dummy variable (= 1 if tract bounds river; 0 otherwise)\n",
      "        - NOX      nitric oxides concentration (parts per 10 million)\n",
      "        - RM       average number of rooms per dwelling\n",
      "        - AGE      proportion of owner-occupied units built prior to 1940\n",
      "        - DIS      weighted distances to five Boston employment centres\n",
      "        - RAD      index of accessibility to radial highways\n",
      "        - TAX      full-value property-tax rate per $10,000\n",
      "        - PTRATIO  pupil-teacher ratio by town\n",
      "        - B        1000(Bk - 0.63)^2 where Bk is the proportion of blacks by town\n",
      "        - LSTAT    % lower status of the population\n",
      "        - MEDV     Median value of owner-occupied homes in $1000's\n",
      "\n",
      "    :Missing Attribute Values: None\n",
      "\n",
      "    :Creator: Harrison, D. and Rubinfeld, D.L.\n",
      "\n",
      "This is a copy of UCI ML housing dataset.\n",
      "https://archive.ics.uci.edu/ml/machine-learning-databases/housing/\n",
      "\n",
      "\n",
      "This dataset was taken from the StatLib library which is maintained at Carnegie Mellon University.\n",
      "\n",
      "The Boston house-price data of Harrison, D. and Rubinfeld, D.L. 'Hedonic\n",
      "prices and the demand for clean air', J. Environ. Economics & Management,\n",
      "vol.5, 81-102, 1978.   Used in Belsley, Kuh & Welsch, 'Regression diagnostics\n",
      "...', Wiley, 1980.   N.B. Various transformations are used in the table on\n",
      "pages 244-261 of the latter.\n",
      "\n",
      "The Boston house-price data has been used in many machine learning papers that address regression\n",
      "problems.   \n",
      "     \n",
      ".. topic:: References\n",
      "\n",
      "   - Belsley, Kuh & Welsch, 'Regression diagnostics: Identifying Influential Data and Sources of Collinearity', Wiley, 1980. 244-261.\n",
      "   - Quinlan,R. (1993). Combining Instance-Based and Model-Based Learning. In Proceedings on the Tenth International Conference of Machine Learning, 236-243, University of Massachusetts, Amherst. Morgan Kaufmann.\n",
      "\n"
     ]
    }
   ],
   "source": [
    "print(boston_dataset.DESCR)"
   ]
  },
  {
   "cell_type": "code",
   "execution_count": 5,
   "metadata": {},
   "outputs": [
    {
     "data": {
      "text/html": [
       "<div>\n",
       "<style scoped>\n",
       "    .dataframe tbody tr th:only-of-type {\n",
       "        vertical-align: middle;\n",
       "    }\n",
       "\n",
       "    .dataframe tbody tr th {\n",
       "        vertical-align: top;\n",
       "    }\n",
       "\n",
       "    .dataframe thead th {\n",
       "        text-align: right;\n",
       "    }\n",
       "</style>\n",
       "<table border=\"1\" class=\"dataframe\">\n",
       "  <thead>\n",
       "    <tr style=\"text-align: right;\">\n",
       "      <th></th>\n",
       "      <th>CRIM</th>\n",
       "      <th>ZN</th>\n",
       "      <th>INDUS</th>\n",
       "      <th>CHAS</th>\n",
       "      <th>NOX</th>\n",
       "      <th>RM</th>\n",
       "      <th>AGE</th>\n",
       "      <th>DIS</th>\n",
       "      <th>RAD</th>\n",
       "      <th>TAX</th>\n",
       "      <th>PTRATIO</th>\n",
       "      <th>B</th>\n",
       "      <th>LSTAT</th>\n",
       "    </tr>\n",
       "  </thead>\n",
       "  <tbody>\n",
       "    <tr>\n",
       "      <th>0</th>\n",
       "      <td>0.00632</td>\n",
       "      <td>18.0</td>\n",
       "      <td>2.31</td>\n",
       "      <td>0.0</td>\n",
       "      <td>0.538</td>\n",
       "      <td>6.575</td>\n",
       "      <td>65.2</td>\n",
       "      <td>4.0900</td>\n",
       "      <td>1.0</td>\n",
       "      <td>296.0</td>\n",
       "      <td>15.3</td>\n",
       "      <td>396.90</td>\n",
       "      <td>4.98</td>\n",
       "    </tr>\n",
       "    <tr>\n",
       "      <th>1</th>\n",
       "      <td>0.02731</td>\n",
       "      <td>0.0</td>\n",
       "      <td>7.07</td>\n",
       "      <td>0.0</td>\n",
       "      <td>0.469</td>\n",
       "      <td>6.421</td>\n",
       "      <td>78.9</td>\n",
       "      <td>4.9671</td>\n",
       "      <td>2.0</td>\n",
       "      <td>242.0</td>\n",
       "      <td>17.8</td>\n",
       "      <td>396.90</td>\n",
       "      <td>9.14</td>\n",
       "    </tr>\n",
       "    <tr>\n",
       "      <th>2</th>\n",
       "      <td>0.02729</td>\n",
       "      <td>0.0</td>\n",
       "      <td>7.07</td>\n",
       "      <td>0.0</td>\n",
       "      <td>0.469</td>\n",
       "      <td>7.185</td>\n",
       "      <td>61.1</td>\n",
       "      <td>4.9671</td>\n",
       "      <td>2.0</td>\n",
       "      <td>242.0</td>\n",
       "      <td>17.8</td>\n",
       "      <td>392.83</td>\n",
       "      <td>4.03</td>\n",
       "    </tr>\n",
       "    <tr>\n",
       "      <th>3</th>\n",
       "      <td>0.03237</td>\n",
       "      <td>0.0</td>\n",
       "      <td>2.18</td>\n",
       "      <td>0.0</td>\n",
       "      <td>0.458</td>\n",
       "      <td>6.998</td>\n",
       "      <td>45.8</td>\n",
       "      <td>6.0622</td>\n",
       "      <td>3.0</td>\n",
       "      <td>222.0</td>\n",
       "      <td>18.7</td>\n",
       "      <td>394.63</td>\n",
       "      <td>2.94</td>\n",
       "    </tr>\n",
       "    <tr>\n",
       "      <th>4</th>\n",
       "      <td>0.06905</td>\n",
       "      <td>0.0</td>\n",
       "      <td>2.18</td>\n",
       "      <td>0.0</td>\n",
       "      <td>0.458</td>\n",
       "      <td>7.147</td>\n",
       "      <td>54.2</td>\n",
       "      <td>6.0622</td>\n",
       "      <td>3.0</td>\n",
       "      <td>222.0</td>\n",
       "      <td>18.7</td>\n",
       "      <td>396.90</td>\n",
       "      <td>5.33</td>\n",
       "    </tr>\n",
       "  </tbody>\n",
       "</table>\n",
       "</div>"
      ],
      "text/plain": [
       "      CRIM    ZN  INDUS  CHAS    NOX     RM   AGE     DIS  RAD    TAX  \\\n",
       "0  0.00632  18.0   2.31   0.0  0.538  6.575  65.2  4.0900  1.0  296.0   \n",
       "1  0.02731   0.0   7.07   0.0  0.469  6.421  78.9  4.9671  2.0  242.0   \n",
       "2  0.02729   0.0   7.07   0.0  0.469  7.185  61.1  4.9671  2.0  242.0   \n",
       "3  0.03237   0.0   2.18   0.0  0.458  6.998  45.8  6.0622  3.0  222.0   \n",
       "4  0.06905   0.0   2.18   0.0  0.458  7.147  54.2  6.0622  3.0  222.0   \n",
       "\n",
       "   PTRATIO       B  LSTAT  \n",
       "0     15.3  396.90   4.98  \n",
       "1     17.8  396.90   9.14  \n",
       "2     17.8  392.83   4.03  \n",
       "3     18.7  394.63   2.94  \n",
       "4     18.7  396.90   5.33  "
      ]
     },
     "execution_count": 5,
     "metadata": {},
     "output_type": "execute_result"
    }
   ],
   "source": [
    "boston = pd.DataFrame(boston_dataset.data, columns=boston_dataset.feature_names)\n",
    "boston.head()"
   ]
  },
  {
   "cell_type": "code",
   "execution_count": 6,
   "metadata": {},
   "outputs": [
    {
     "data": {
      "text/html": [
       "<div>\n",
       "<style scoped>\n",
       "    .dataframe tbody tr th:only-of-type {\n",
       "        vertical-align: middle;\n",
       "    }\n",
       "\n",
       "    .dataframe tbody tr th {\n",
       "        vertical-align: top;\n",
       "    }\n",
       "\n",
       "    .dataframe thead th {\n",
       "        text-align: right;\n",
       "    }\n",
       "</style>\n",
       "<table border=\"1\" class=\"dataframe\">\n",
       "  <thead>\n",
       "    <tr style=\"text-align: right;\">\n",
       "      <th></th>\n",
       "      <th>CRIM</th>\n",
       "      <th>ZN</th>\n",
       "      <th>INDUS</th>\n",
       "      <th>CHAS</th>\n",
       "      <th>NOX</th>\n",
       "      <th>RM</th>\n",
       "      <th>AGE</th>\n",
       "      <th>DIS</th>\n",
       "      <th>RAD</th>\n",
       "      <th>TAX</th>\n",
       "      <th>PTRATIO</th>\n",
       "      <th>B</th>\n",
       "      <th>LSTAT</th>\n",
       "      <th>MEDV</th>\n",
       "    </tr>\n",
       "  </thead>\n",
       "  <tbody>\n",
       "    <tr>\n",
       "      <th>0</th>\n",
       "      <td>0.00632</td>\n",
       "      <td>18.0</td>\n",
       "      <td>2.31</td>\n",
       "      <td>0.0</td>\n",
       "      <td>0.538</td>\n",
       "      <td>6.575</td>\n",
       "      <td>65.2</td>\n",
       "      <td>4.0900</td>\n",
       "      <td>1.0</td>\n",
       "      <td>296.0</td>\n",
       "      <td>15.3</td>\n",
       "      <td>396.90</td>\n",
       "      <td>4.98</td>\n",
       "      <td>24.0</td>\n",
       "    </tr>\n",
       "    <tr>\n",
       "      <th>1</th>\n",
       "      <td>0.02731</td>\n",
       "      <td>0.0</td>\n",
       "      <td>7.07</td>\n",
       "      <td>0.0</td>\n",
       "      <td>0.469</td>\n",
       "      <td>6.421</td>\n",
       "      <td>78.9</td>\n",
       "      <td>4.9671</td>\n",
       "      <td>2.0</td>\n",
       "      <td>242.0</td>\n",
       "      <td>17.8</td>\n",
       "      <td>396.90</td>\n",
       "      <td>9.14</td>\n",
       "      <td>21.6</td>\n",
       "    </tr>\n",
       "    <tr>\n",
       "      <th>2</th>\n",
       "      <td>0.02729</td>\n",
       "      <td>0.0</td>\n",
       "      <td>7.07</td>\n",
       "      <td>0.0</td>\n",
       "      <td>0.469</td>\n",
       "      <td>7.185</td>\n",
       "      <td>61.1</td>\n",
       "      <td>4.9671</td>\n",
       "      <td>2.0</td>\n",
       "      <td>242.0</td>\n",
       "      <td>17.8</td>\n",
       "      <td>392.83</td>\n",
       "      <td>4.03</td>\n",
       "      <td>34.7</td>\n",
       "    </tr>\n",
       "    <tr>\n",
       "      <th>3</th>\n",
       "      <td>0.03237</td>\n",
       "      <td>0.0</td>\n",
       "      <td>2.18</td>\n",
       "      <td>0.0</td>\n",
       "      <td>0.458</td>\n",
       "      <td>6.998</td>\n",
       "      <td>45.8</td>\n",
       "      <td>6.0622</td>\n",
       "      <td>3.0</td>\n",
       "      <td>222.0</td>\n",
       "      <td>18.7</td>\n",
       "      <td>394.63</td>\n",
       "      <td>2.94</td>\n",
       "      <td>33.4</td>\n",
       "    </tr>\n",
       "    <tr>\n",
       "      <th>4</th>\n",
       "      <td>0.06905</td>\n",
       "      <td>0.0</td>\n",
       "      <td>2.18</td>\n",
       "      <td>0.0</td>\n",
       "      <td>0.458</td>\n",
       "      <td>7.147</td>\n",
       "      <td>54.2</td>\n",
       "      <td>6.0622</td>\n",
       "      <td>3.0</td>\n",
       "      <td>222.0</td>\n",
       "      <td>18.7</td>\n",
       "      <td>396.90</td>\n",
       "      <td>5.33</td>\n",
       "      <td>36.2</td>\n",
       "    </tr>\n",
       "  </tbody>\n",
       "</table>\n",
       "</div>"
      ],
      "text/plain": [
       "      CRIM    ZN  INDUS  CHAS    NOX     RM   AGE     DIS  RAD    TAX  \\\n",
       "0  0.00632  18.0   2.31   0.0  0.538  6.575  65.2  4.0900  1.0  296.0   \n",
       "1  0.02731   0.0   7.07   0.0  0.469  6.421  78.9  4.9671  2.0  242.0   \n",
       "2  0.02729   0.0   7.07   0.0  0.469  7.185  61.1  4.9671  2.0  242.0   \n",
       "3  0.03237   0.0   2.18   0.0  0.458  6.998  45.8  6.0622  3.0  222.0   \n",
       "4  0.06905   0.0   2.18   0.0  0.458  7.147  54.2  6.0622  3.0  222.0   \n",
       "\n",
       "   PTRATIO       B  LSTAT  MEDV  \n",
       "0     15.3  396.90   4.98  24.0  \n",
       "1     17.8  396.90   9.14  21.6  \n",
       "2     17.8  392.83   4.03  34.7  \n",
       "3     18.7  394.63   2.94  33.4  \n",
       "4     18.7  396.90   5.33  36.2  "
      ]
     },
     "execution_count": 6,
     "metadata": {},
     "output_type": "execute_result"
    }
   ],
   "source": [
    "boston['MEDV'] = boston_dataset.target\n",
    "boston.head()"
   ]
  },
  {
   "cell_type": "code",
   "execution_count": 7,
   "metadata": {},
   "outputs": [
    {
     "data": {
      "text/plain": [
       "CRIM       0\n",
       "ZN         0\n",
       "INDUS      0\n",
       "CHAS       0\n",
       "NOX        0\n",
       "RM         0\n",
       "AGE        0\n",
       "DIS        0\n",
       "RAD        0\n",
       "TAX        0\n",
       "PTRATIO    0\n",
       "B          0\n",
       "LSTAT      0\n",
       "MEDV       0\n",
       "dtype: int64"
      ]
     },
     "execution_count": 7,
     "metadata": {},
     "output_type": "execute_result"
    }
   ],
   "source": [
    "boston.isnull().sum()"
   ]
  },
  {
   "cell_type": "markdown",
   "metadata": {},
   "source": [
    "- Si crea df per fare shuffle in maniera efficiente e prendere permutazioni random (questo lo si fa solo se è possibile)\n"
   ]
  },
  {
   "cell_type": "code",
   "execution_count": 8,
   "metadata": {},
   "outputs": [
    {
     "name": "stdout",
     "output_type": "stream",
     "text": [
      "(303, 2) (101, 2) (102, 2)\n"
     ]
    }
   ],
   "source": [
    "VARIABLE = 'LSTAT' #'RM'\n",
    "\n",
    "x = boston[VARIABLE].values.reshape((boston[VARIABLE].shape[0], 1)) #(506, 1)\n",
    "y = boston['MEDV'].values.reshape((x.shape[0], 1)) #(506, 1)\n",
    "\n",
    "\n",
    "df = pd.DataFrame(np.concatenate([x, y], axis=1))\n",
    "\n",
    "#df.sample(frac=1) fa shuffle\n",
    "train, val, test = np.split(df.sample(frac=1), [int(.6 * len(df)), int(.8*len(df))]) # prima 60% e poi 20% (da 60% a 80%) e restante\n",
    "print(train.shape, val.shape, test.shape) # ogni dataset ha feature e target feature (seconda dim è 2)\n",
    "\n",
    "X_train, y_train = train[0], train[1]\n",
    "X_val, y_val = val[0], val[1]\n",
    "X_test, y_test = test[0], test[1]\n",
    "\n",
    "\n",
    "# si fa di nuovo reshape per le colonne\n",
    "X_train = np.reshape([X_train], (train.shape[0], 1))\n",
    "y_train = np.reshape([y_train], (train.shape[0], 1))\n",
    "X_val = np.reshape([X_val], (val.shape[0], 1))\n",
    "y_val = np.reshape([y_val], (val.shape[0], 1))\n",
    "X_test = np.reshape([X_test], (test.shape[0], 1))\n",
    "y_test = np.reshape([y_test], (test.shape[0], 1))\n",
    "\n",
    "# Si aggiungono le colonne di 1 per theta_0\n",
    "X_train = np.c_[np.ones((X_train.shape[0], 1)), X_train]\n",
    "X_val = np.c_[np.ones((X_val.shape[0], 1)), X_val]\n",
    "X_test = np.c_[np.ones((X_test.shape[0], 1)), X_test]\n",
    "\n",
    "\n",
    "\n"
   ]
  },
  {
   "cell_type": "markdown",
   "metadata": {},
   "source": [
    "# Linear regression with regularization\n",
    "\n",
    "funzione di costo è un tradeoff tra funzione di costo classico ed un valore che mi dice che voglio i miei parametri piccoli (pilotato da lambda che va scelto da noi secondo un qualche criterio). Theta_0 viene buttato fuori dalla regolarizzazione nella cost function e per questo si usa una versione di theta diverso nel caso vettorizzato avente 0 come theta_0."
   ]
  },
  {
   "cell_type": "code",
   "execution_count": 9,
   "metadata": {},
   "outputs": [],
   "source": [
    "def compute_cost_reg(theta, x, y, lamda = 0):\n",
    "    h = x.dot(theta)\n",
    "    m = x.shape[0]\n",
    "    J = np.sum((h-y)**2) / (2 * m)\n",
    "    theta_1 = theta\n",
    "    theta_1[0] = 0\n",
    "    J = J + lamda / (2 * m) * np.sum(theta_1 ** 2)\n",
    "    return J\n",
    "\n",
    "def gradient_reg(theta, x, y, lamda = 0):\n",
    "    m = x.shape[0]\n",
    "    \n",
    "    theta_r = theta\n",
    "    theta_r[0] = 0\n",
    "    \n",
    "    h = x.dot(theta)\n",
    "    grad = (x.T.dot(h-y) / m) + (lamda/m)*theta_r\n",
    "    return grad.flatten()\n",
    "\n",
    "def normal_equation_reg(x, y, lamda):\n",
    "    matrix_for_regularization = np.identity(x.shape[1])\n",
    "    matrix_for_regularization[0][0] = 0\n",
    "    inverse = np.linalg.pinv(np.add(x.T.dot(x), np.multiply(lamda, matrix_for_regularization)))\n",
    "    return (inverse.dot(x.T)).dot(y)\n",
    "    \n",
    "\n",
    "def gradient_descent_reg(theta, X, y, _lambda=0, alpha = 0.001, num_iters = 20000, epsilon = 0.0001):\n",
    "    for k in range(num_iters):\n",
    "        grad = gradient_reg(theta, X, y, _lambda).reshape((theta.shape[0],1))\n",
    "        theta = theta - np.multiply(alpha, grad)\n",
    "    return theta"
   ]
  },
  {
   "cell_type": "code",
   "execution_count": 10,
   "metadata": {
    "scrolled": false
   },
   "outputs": [
    {
     "name": "stdout",
     "output_type": "stream",
     "text": [
      "164.43737590759076\n",
      "[-10.18943894 -24.38728119]\n"
     ]
    }
   ],
   "source": [
    "initial_theta = np.ones((X_train.shape[1], 1))\n",
    "\n",
    "cost = compute_cost_reg(initial_theta, X_train, y_train, 0)\n",
    "print(cost)\n",
    "\n",
    "gradient = gradient_reg(initial_theta, X_train, y_train, 0)\n",
    "\n",
    "print(gradient)"
   ]
  },
  {
   "cell_type": "markdown",
   "metadata": {},
   "source": [
    "# Part 1. Comparing different degrees of hypothesis \n",
    "creazione dei dataset sul training set"
   ]
  },
  {
   "cell_type": "code",
   "execution_count": 11,
   "metadata": {},
   "outputs": [],
   "source": [
    "dataframe = pd.DataFrame(X_train[:,1], columns=[VARIABLE])\n",
    "\n",
    "costs_train = []\n",
    "for degree in range(1, 26):\n",
    "    new_data = polynomial_features(dataframe, degree)\n",
    "    _x_train = np.concatenate([np.ones((dataframe.shape[0], 1)), new_data], axis=1)\n",
    "    _theta_train = normal_equations(_x_train, y_train)\n",
    "    _cost_train = compute_cost_vectorized(_x_train, y_train, _theta_train)\n",
    "    costs_train.append(_cost_train[0][0])\n"
   ]
  },
  {
   "cell_type": "code",
   "execution_count": 12,
   "metadata": {},
   "outputs": [],
   "source": [
    "dataframe = pd.DataFrame(X_val[:,1], columns=[VARIABLE])\n",
    "\n",
    "costs_val = []\n",
    "for degree in range(1, 26):\n",
    "    new_data = polynomial_features(dataframe, degree)\n",
    "    _x_val = np.concatenate([np.ones((dataframe.shape[0], 1)), new_data], axis=1)\n",
    "    _theta_val = normal_equations(_x_val, y_val)\n",
    "    _cost_val = compute_cost_vectorized(_x_val, y_val, _theta_val)\n",
    "    costs_val.append(_cost_val[0][0])\n"
   ]
  },
  {
   "cell_type": "markdown",
   "metadata": {},
   "source": [
    "## Calcoliamo gli errori per ogni grado del polinomio su entrambi i set"
   ]
  },
  {
   "cell_type": "code",
   "execution_count": 13,
   "metadata": {},
   "outputs": [
    {
     "data": {
      "text/plain": [
       "(13, 22)"
      ]
     },
     "execution_count": 13,
     "metadata": {},
     "output_type": "execute_result"
    },
    {
     "data": {
      "image/png": "[encoded data removed]",
      "text/plain": [
       "<Figure size 1440x360 with 2 Axes>"
      ]
     },
     "metadata": {
      "needs_background": "light"
     },
     "output_type": "display_data"
    }
   ],
   "source": [
    "# Plot gradient descent\n",
    "plt.figure(figsize=(20, 5))\n",
    "\n",
    "# Create stuff to show\n",
    "labels = np.arange(1, 26)\n",
    "xvals = np.linspace(labels[0], labels[np.arange(1, 26).shape[0]-1], np.arange(1, 26).shape[0])\n",
    "yinterp_train = np.interp(xvals, labels, costs_train)\n",
    "yinterp_val = np.interp(xvals, labels, costs_val)\n",
    "\n",
    "\n",
    "# First subplot (left plot)\n",
    "plt.subplot(1, 2 , 1)\n",
    "plt.plot(xvals, yinterp_train, '-', c='r', label='Cost on training set')\n",
    "plt.plot(xvals, yinterp_val, '-', c='b', label='Cost on validation set')\n",
    "plt.grid(linestyle='--', linewidth=.7)\n",
    "\n",
    "plt.title('Variation of cost function wrt degree of polynomial')\n",
    "plt.xlabel('Polynomial degree')\n",
    "plt.ylabel('Cost J')\n",
    "plt.legend(loc=1);\n",
    "\n",
    "\n",
    "# Second subplot\n",
    "plt.subplot(1, 2 , 2)\n",
    "plt.plot(xvals, yinterp_train, '-', c='r', label='Cost on training set')\n",
    "plt.plot(xvals, yinterp_val, '-', c='b', label='Cost on validation set')\n",
    "plt.grid(linestyle='--', linewidth=.7)\n",
    "\n",
    "plt.title('Variation of cost function wrt degree of polynomial (zoom of the interesting portion of the curve)')\n",
    "plt.xlabel('Polynomial degree')\n",
    "plt.ylabel('Cost J')\n",
    "plt.legend(loc=1);\n",
    "\n",
    "plt.xlim(0.7,6)\n",
    "plt.ylim(13,22)\n",
    "\n",
    "\n"
   ]
  },
  {
   "cell_type": "markdown",
   "metadata": {},
   "source": [
    "# Parte 2\n",
    "Scelta del grado del polinomio pari a 4."
   ]
  },
  {
   "cell_type": "code",
   "execution_count": 14,
   "metadata": {},
   "outputs": [
    {
     "name": "stdout",
     "output_type": "stream",
     "text": [
      "We'll try these values of lamda to see how the cost function behaves:\n",
      "[0, 0.01, 0.02, 0.04, 0.08, 0.16, 0.32, 0.64, 1.28, 2.56, 5.12, 10.24, 20.48, 40.96, 81.92, 163.84]\n"
     ]
    }
   ],
   "source": [
    "selected_degree = 4\n",
    "\n",
    "lamdas = [0, .01]\n",
    "lamda = .01\n",
    "while lamda <= 100:\n",
    "    lamda = lamda*2\n",
    "    lamdas.append(lamda)\n",
    "print(\"We'll try these values of lamda to see how the cost function behaves:\\n{}\".format(lamdas))"
   ]
  },
  {
   "cell_type": "markdown",
   "metadata": {},
   "source": [
    "We can now create the dataset upon wich we can operate"
   ]
  },
  {
   "cell_type": "code",
   "execution_count": 15,
   "metadata": {},
   "outputs": [],
   "source": [
    "dataframe = pd.DataFrame(X_train[:,1], columns=[VARIABLE])\n",
    "new_data = polynomial_features(dataframe, selected_degree)\n",
    "x_train_part_2 = np.concatenate([np.ones((dataframe.shape[0], 1)), new_data], axis=1)\n",
    "\n",
    "dataframe = pd.DataFrame(X_val[:,1], columns=[VARIABLE])\n",
    "new_data = polynomial_features(dataframe, selected_degree)\n",
    "x_val_part_2 = np.concatenate([np.ones((dataframe.shape[0], 1)), new_data], axis=1)"
   ]
  },
  {
   "cell_type": "markdown",
   "metadata": {},
   "source": [
    "Let's test on both datasets the different values of the regularization parameter and let's keep track of the cost function"
   ]
  },
  {
   "cell_type": "code",
   "execution_count": 16,
   "metadata": {},
   "outputs": [],
   "source": [
    "thetas_train = []\n",
    "costs_train = []\n",
    "\n",
    "thetas_val = []\n",
    "costs_val = []\n",
    "\n",
    "for lamda in lamdas:\n",
    "    _theta_train = normal_equation_reg(x_train_part_2, y_train, lamda)\n",
    "    _cost_train = compute_cost_vectorized(x_train_part_2, y_train, _theta_train)\n",
    "    thetas_train.append(_theta_train)\n",
    "    costs_train.append(_cost_train[0][0])\n",
    "    \n",
    "    _theta_val = normal_equation_reg(x_val_part_2, y_val, lamda)\n",
    "    _cost_val = compute_cost_vectorized(x_val_part_2, y_val, _theta_val)\n",
    "    thetas_val.append(_theta_val)\n",
    "    costs_val.append(_cost_val[0][0])"
   ]
  },
  {
   "cell_type": "markdown",
   "metadata": {},
   "source": [
    "Let's plot the costs"
   ]
  },
  {
   "cell_type": "code",
   "execution_count": 17,
   "metadata": {},
   "outputs": [
    {
     "data": {
      "image/png": "[encoded data removed]",
      "text/plain": [
       "<Figure size 1440x360 with 2 Axes>"
      ]
     },
     "metadata": {
      "needs_background": "light"
     },
     "output_type": "display_data"
    }
   ],
   "source": [
    "# Plot gradient descent\n",
    "plt.figure(figsize=(20, 5))\n",
    "\n",
    "xvals = np.linspace(lamdas[0], lamdas[len(lamdas)-1], len(lamdas))\n",
    "yinterp_train = np.interp(xvals, lamdas, costs_train)\n",
    "yinterp_val = np.interp(xvals, lamdas, costs_val)\n",
    "\n",
    "plt.subplot(1, 2, 1)\n",
    "plt.plot(xvals, yinterp_train, '-x', c='r', label='Cost on training set')\n",
    "plt.plot(xvals, yinterp_val, '-o', c='b', label='Cost on validation set')\n",
    "\n",
    "plt.title('Variation of cost function wrt $\\lambda$ values')\n",
    "plt.xlabel('$\\lambda$')\n",
    "plt.ylabel('Cost J')\n",
    "plt.legend(loc=2);\n",
    "plt.grid(linestyle='--', linewidth=.7)\n",
    "\n",
    "plt.subplot(1, 2, 2)\n",
    "plt.plot(lamdas, costs_train, '-x', c='r', label='Cost on training set')\n",
    "plt.plot(lamdas, costs_val, '-o', c='b', label='Cost on validation set')\n",
    "\n",
    "plt.title('Variation of cost function wrt $\\lambda$ values (zoom of 0-1 interval)')\n",
    "plt.xlabel('$\\lambda$')\n",
    "plt.ylabel('Cost J')\n",
    "plt.legend(loc=5)\n",
    "plt.xlim(-.002, 1)\n",
    "plt.ylim(13.52, 13.77)\n",
    "plt.grid(linestyle='--', linewidth=.7, which='both')\n"
   ]
  },
  {
   "cell_type": "markdown",
   "metadata": {},
   "source": [
    "# TODO\n",
    "- Plot di errore per grado di polinomio e vedere che zona è di high variance e quale di high bias (plot di train e cross validation)\n",
    "- Grafico di errore di cross validation e train in funzione di lamda (con regolarizzazione) e vedere la stessa cosa di prima\n",
    "- Fare la stessa cosa con il variare della dimensione del training set (optional)\n",
    "\n"
   ]
  },
  {
   "cell_type": "code",
   "execution_count": null,
   "metadata": {},
   "outputs": [],
   "source": []
  }
 ],
 "metadata": {
  "kernelspec": {
   "display_name": "Python 3",
   "language": "python",
   "name": "python3"
  },
  "language_info": {
   "codemirror_mode": {
    "name": "ipython",
    "version": 3
   },
   "file_extension": ".py",
   "mimetype": "text/x-python",
   "name": "python",
   "nbconvert_exporter": "python",
   "pygments_lexer": "ipython3",
   "version": "3.7.3"
  }
 },
 "nbformat": 4,
 "nbformat_minor": 2
}
