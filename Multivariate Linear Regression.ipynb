{
 "cells": [
  {
   "cell_type": "markdown",
   "metadata": {},
   "source": [
    "# Multivariate Linear Regression\n",
    "The dataset has the squared meters of the house and the number of bathrooms, while the third column represents the price of the houses.\n",
    "The problem here is the different scale of the features. The problem can be solved by **feature scaling**.\n",
    "\n",
    "## Load data"
   ]
  },
  {
   "cell_type": "code",
   "execution_count": 1,
   "metadata": {},
   "outputs": [
    {
     "name": "stdout",
     "output_type": "stream",
     "text": [
      "(47, 3)\n"
     ]
    }
   ],
   "source": [
    "import numpy as np\n",
    "from matplotlib import pyplot as plt\n",
    "\n",
    "data = np.loadtxt('data/ex1data2.txt', delimiter=',')\n",
    "\n",
    "print(data.shape)"
   ]
  },
  {
   "cell_type": "code",
   "execution_count": 2,
   "metadata": {},
   "outputs": [
    {
     "name": "stdout",
     "output_type": "stream",
     "text": [
      "Training examples: 47\n",
      "Features: 2\n",
      "10 examples: \n",
      " [[2.104e+03 3.000e+00]\n",
      " [1.600e+03 3.000e+00]\n",
      " [2.400e+03 3.000e+00]\n",
      " [1.416e+03 2.000e+00]\n",
      " [3.000e+03 4.000e+00]\n",
      " [1.985e+03 4.000e+00]\n",
      " [1.534e+03 3.000e+00]\n",
      " [1.427e+03 3.000e+00]\n",
      " [1.380e+03 3.000e+00]\n",
      " [1.494e+03 3.000e+00]]\n"
     ]
    }
   ],
   "source": [
    "x = data[:, :2]\n",
    "y = data[:, -1]\n",
    "\n",
    "# from n-dimensional vector to m x 1 matrix\n",
    "y = np.reshape(y, (y.shape[0], 1))\n",
    "\n",
    "m = x.shape[0]\n",
    "print(\"Training examples: {}\".format(m))\n",
    "\n",
    "n = x.shape[1]\n",
    "print(\"Features: {}\".format(n))\n",
    "\n",
    "print(\"10 examples: \\n\", x[:10, :])"
   ]
  },
  {
   "cell_type": "markdown",
   "metadata": {},
   "source": [
    "## Features normalization\n",
    "The **feature normalization** is necessary because the features have not the same order of magnitude. This is a bad thing as our classifiers will give more weight to the larger features instead of treating all of them equally. This phase will help removing this problem by reducing the differences in the order of magnitude while keeping the same informations on the feature being normalized. Using this technique, it is possible to speed up the gradient descent algorithm as it will go towards the minimum in an optimal way.\n",
    "\n",
    "From all the features, the normalization can be done in two steps:\n",
    "1. Subtract the mean value\n",
    "2. Didive by the standard deviation"
   ]
  },
  {
   "cell_type": "code",
   "execution_count": 3,
   "metadata": {},
   "outputs": [],
   "source": [
    "def feature_normalize(x):\n",
    "    x_norm = x\n",
    "    \n",
    "    mu = np.zeros((1, x.shape[1]))\n",
    "    sigma = np.zeros((1, x.shape[1]))\n",
    "    \n",
    "    mu = np.mean(x, axis = 0) # mean value\n",
    "    sigma = np.std(x, axis = 0) # std deviation value\n",
    "    \n",
    "    for i in range(x.shape[1]):\n",
    "        x_norm[:,i] = (x[:,i] - mu[i])/sigma[i]\n",
    "        \n",
    "    return x_norm, mu, sigma"
   ]
  },
  {
   "cell_type": "code",
   "execution_count": 4,
   "metadata": {},
   "outputs": [
    {
     "name": "stdout",
     "output_type": "stream",
     "text": [
      "10 normalized examples: \n",
      " [[ 0.13141542 -0.22609337]\n",
      " [-0.5096407  -0.22609337]\n",
      " [ 0.5079087  -0.22609337]\n",
      " [-0.74367706 -1.5543919 ]\n",
      " [ 1.27107075  1.10220517]\n",
      " [-0.01994505  1.10220517]\n",
      " [-0.59358852 -0.22609337]\n",
      " [-0.72968575 -0.22609337]\n",
      " [-0.78946678 -0.22609337]\n",
      " [-0.64446599 -0.22609337]]\n",
      "Mean value: [2000.68085106    3.17021277]\n",
      "Standard deviation value: [7.86202619e+02 7.52842809e-01]\n"
     ]
    }
   ],
   "source": [
    "x_norm, mu, sigma = feature_normalize(x)\n",
    "print(\"10 normalized examples: \\n\", x_norm[:10, :])\n",
    "print(\"Mean value: {}\".format(mu))\n",
    "print(\"Standard deviation value: {}\".format(sigma))"
   ]
  },
  {
   "cell_type": "markdown",
   "metadata": {},
   "source": [
    "The chosen hypothesis function is as follow:\n",
    "$$h_{\\theta}(x) = \\theta_0 + \\theta_1 x_1 + \\theta_2 x_2$$\n",
    "We need to add a new column of 1 to the dataset in order to deal with the $\\theta_0$ parameter."
   ]
  },
  {
   "cell_type": "code",
   "execution_count": 5,
   "metadata": {},
   "outputs": [
    {
     "name": "stdout",
     "output_type": "stream",
     "text": [
      "The shape of the dataset is (47, 3)\n"
     ]
    }
   ],
   "source": [
    "x_norm = np.concatenate([np.ones((m,1)), x_norm], axis = 1)\n",
    "\n",
    "print(\"The shape of the dataset is {}\".format(x_norm.shape))"
   ]
  },
  {
   "cell_type": "markdown",
   "metadata": {},
   "source": [
    "Let's now introduce the function to perform the gradient descent of the cost function and that will help us calculate the cost on the training set:"
   ]
  },
  {
   "cell_type": "code",
   "execution_count": 6,
   "metadata": {},
   "outputs": [],
   "source": [
    "def gradient_descent(x, y, theta, alpha = 0.1, iterations = 1500):\n",
    "    costs = []\n",
    "    for i in range(0, iterations):\n",
    "        theta = theta - (alpha / x.shape[0]) * (x.T).dot(x.dot(theta) - y)\n",
    "        costs.append(calculate_cost(x, y, theta))\n",
    "    return theta, costs\n",
    "\n",
    "def calculate_cost(x, y, theta = [[0],[0],[0]]):\n",
    "    h = x.dot(theta)\n",
    "    return 1/(2 * x.shape[0]) * np.sum(np.square(h - y))"
   ]
  },
  {
   "cell_type": "markdown",
   "metadata": {},
   "source": [
    "Let's run the gradient descent using as the learning rate $\\alpha$ a value of 0.1 and running 1500 iterations:"
   ]
  },
  {
   "cell_type": "code",
   "execution_count": 7,
   "metadata": {},
   "outputs": [
    {
     "name": "stdout",
     "output_type": "stream",
     "text": [
      "Non normalized theta:\n",
      " [[340412.65957447]\n",
      " [109447.79646964]\n",
      " [ -6578.35485416]]\n",
      "\n",
      "\n",
      "Normalized theta:\n",
      " [[340412.65957447]\n",
      " [109447.79646964]\n",
      " [ -6578.35485416]]\n",
      "\n",
      "\n"
     ]
    }
   ],
   "source": [
    "alpha = 0.1\n",
    "num_iters = 1500\n",
    "\n",
    "theta = np.zeros((3, 1))\n",
    "theta, cost_history = gradient_descent(x_norm, y, theta, alpha, num_iters)\n",
    "\n",
    "theta_no_norm = np.zeros((3, 1))\n",
    "x = np.concatenate([np.ones((m,1)), x], axis = 1)\n",
    "theta_no_norm, cost_history_no_norm = gradient_descent(x, y, \n",
    "                                        theta_no_norm, alpha, num_iters)\n",
    "\n",
    "print(\"Non normalized theta:\\n {}\\n\\n\".format(theta_no_norm))\n",
    "print(\"Normalized theta:\\n {}\\n\\n\".format(theta))"
   ]
  },
  {
   "cell_type": "markdown",
   "metadata": {},
   "source": [
    "Let's plot the cost function of the costs calculate on the normalized and non-normalized datasets:"
   ]
  },
  {
   "cell_type": "code",
   "execution_count": 8,
   "metadata": {},
   "outputs": [
    {
     "data": {
      "image/png": "[encoded data removed]",
      "text/plain": [
       "<Figure size 432x288 with 1 Axes>"
      ]
     },
     "metadata": {
      "needs_background": "light"
     },
     "output_type": "display_data"
    }
   ],
   "source": [
    "# Plot the convergence graph\n",
    "plt.plot([i for i in range(num_iters)], \n",
    "         cost_history, '-b', label = 'Normalized cost')\n",
    "plt.plot([i for i in range(num_iters)], \n",
    "         cost_history_no_norm, '-r', label = 'Non normalized cost')\n",
    "plt.xlabel('Number of iterations') # Set the x−axis label\n",
    "plt.ylabel('Cost J') # Set the y−axis label \n",
    "plt.title('Cost behavior')\n",
    "plt.legend()\n",
    "plt.show()"
   ]
  },
  {
   "cell_type": "markdown",
   "metadata": {},
   "source": [
    "In the graph above the functions overlaps. It's for this reason that we can see only the red curve. \n",
    "## Normal equations\n",
    "We can take the same results in only one calculation and without any feature scaling. This can be done by using a closed form solution, but it can be used only for smaller dataset without a huge number of features. For big dataset, it is mandatory to use the **Batch Gradient Descent** or the **Stochastic Gradient Descent**.   \n",
    "The normal equation is:\n",
    "$$ \\theta = (X^{T}X)^{-1}X^Ty $$\n",
    "The reason why we cannot use this form for dataset with a lot of features, is that we need to calculate the inverse of the matrix $X^tX$, which can be very resource consuming and can bring a lot of problems when the matrix is a singular one (we can partially solve this problem by using the *pseudo-inverse* of the matrix.\n",
    "Let's implement the equation:"
   ]
  },
  {
   "cell_type": "code",
   "execution_count": 9,
   "metadata": {},
   "outputs": [],
   "source": [
    "def normal_equations(x, y):\n",
    "    return np.linalg.pinv(x.T.dot(x)).dot(x.T).dot(y)"
   ]
  },
  {
   "cell_type": "markdown",
   "metadata": {},
   "source": [
    "Let's use it on our dataset:"
   ]
  },
  {
   "cell_type": "code",
   "execution_count": 10,
   "metadata": {},
   "outputs": [
    {
     "name": "stdout",
     "output_type": "stream",
     "text": [
      "[[340412.65957447]\n",
      " [109447.79646964]\n",
      " [ -6578.35485416]]\n"
     ]
    }
   ],
   "source": [
    "normal_theta = normal_equations(x, y);\n",
    "print(normal_theta)"
   ]
  },
  {
   "cell_type": "markdown",
   "metadata": {},
   "source": [
    "We can see that the $\\theta$ value calculated using the normal equation is the same as the one calculated with the gradient descent, even if here we haven't chosen a learning parameter $\\alpha$ e we did not do any feature scaling. These two are the strong point for the technique of the normal equations."
   ]
  },
  {
   "cell_type": "markdown",
   "metadata": {},
   "source": [
    "## Let's make some predictions\n",
    "We want to estimate the price for a 1650 squared meters house having 3 bedrooms:"
   ]
  },
  {
   "cell_type": "code",
   "execution_count": 11,
   "metadata": {},
   "outputs": [
    {
     "name": "stdout",
     "output_type": "stream",
     "text": [
      "Predicted cost for a 1650 squared meters and 3 bedrooms house: [[293081.4643349]]\n"
     ]
    }
   ],
   "source": [
    "# Let's create the array x (the features used for prediction)\n",
    "for_prediction = np.array([1650, 3])\n",
    "# Let's use the values of the average value and\n",
    "# standard deviation to do feature scaling\n",
    "for_prediction = np.array([1, \n",
    "                           (for_prediction[0] - mu[0])/sigma[0], \n",
    "                           (for_prediction[1] - mu[1])/sigma[1]])\n",
    "# Let's add a the second dimensions\n",
    "for_prediction = for_prediction.reshape((for_prediction.shape[0], 1))\n",
    "\n",
    "# Let's predict the cost using the hypothesis values\n",
    "predicted_cost = theta.T.dot(for_prediction)\n",
    "print('Predicted cost for a 1650 squared meters and 3 bedrooms house: {}'\n",
    "      .format(predicted_cost))"
   ]
  },
  {
   "cell_type": "markdown",
   "metadata": {},
   "source": [
    "## Learning rate values\n",
    "During the training phase, we use the gradient descent algorithm, which depends on a parameter, the **learning rate**.\n",
    "\n",
    "The possible scenarios are:\n",
    "1. If a very *little* value for the learning rate is used, the time needed to the gradient descent to converge will be longer;\n",
    "2. If we use a *big* value for the learning rate, we can end up overshooting the global (or local) minimum. Eventually we can end up diverging.\n",
    "\n",
    "There is no known way to set the learning rate to an optimal value, it's for this reason that it is necessary to try different values for $\\alpha$ and keep the one which works better.\n",
    "\n",
    "Let's see the differences when using different type of learning rates.\n",
    "### Small learning rate\n",
    "Here we will use a very small learning rate, which will be set to $10^{-4}$ and we will do $10^4$ iterations:"
   ]
  },
  {
   "cell_type": "code",
   "execution_count": 12,
   "metadata": {},
   "outputs": [
    {
     "name": "stdout",
     "output_type": "stream",
     "text": [
      "Theta using a learning rate of 1e-4: \n",
      "[[215188.10240439]\n",
      " [ 61279.52044616]\n",
      " [ 19975.26231463]]\n"
     ]
    }
   ],
   "source": [
    "alpha = 0.0001\n",
    "num_iters = 10000\n",
    "\n",
    "theta_little = np.zeros((3, 1))\n",
    "theta_little, cost_history_little = gradient_descent(x_norm, y, \n",
    "                                        theta_little, alpha, num_iters)\n",
    "\n",
    "print(\"Theta using a learning rate of 1e-4: \\n{}\".format(theta_little))"
   ]
  },
  {
   "cell_type": "markdown",
   "metadata": {},
   "source": [
    "Let's plot the cost function with respect to the number of iterations: "
   ]
  },
  {
   "cell_type": "code",
   "execution_count": 13,
   "metadata": {},
   "outputs": [
    {
     "data": {
      "image/png": "[encoded data removed]",
      "text/plain": [
       "<Figure size 432x288 with 1 Axes>"
      ]
     },
     "metadata": {
      "needs_background": "light"
     },
     "output_type": "display_data"
    }
   ],
   "source": [
    "# Plot the convergence graph\n",
    "plt.plot([i for i in range(num_iters)], \n",
    "         cost_history_little, '-b', \n",
    "         label = 'Cost history using 1e-4 as learning rate')\n",
    "plt.xlabel('Number of iterations')\n",
    "plt.ylabel('Cost J')\n",
    "plt.title('Cost behavior')\n",
    "plt.legend()\n",
    "plt.show()"
   ]
  },
  {
   "cell_type": "markdown",
   "metadata": {},
   "source": [
    "As it can be seen in the graph, using a small learning rate ($\\alpha = 10^{-4}$) slows down the learning phase.\n",
    "\n",
    "Using such a small learning rate prevents our algorithm from converging to the optimal minimum in 10000 iterations, even if it can be reached in less than 50 iterations as before (using $\\alpha=0.1$). \n",
    "\n",
    "### Big learning rate\n",
    "We'll now see the effects of using a big learning rate. We will set it to a value of 2 and we will use only 10 iterations:"
   ]
  },
  {
   "cell_type": "code",
   "execution_count": 14,
   "metadata": {},
   "outputs": [
    {
     "name": "stdout",
     "output_type": "stream",
     "text": [
      "Theta using a learning rate of 1: \n",
      "[[-4.38885763e-08]\n",
      " [-9.41838069e+07]\n",
      " [-9.42998330e+07]]\n"
     ]
    }
   ],
   "source": [
    "alpha = 2\n",
    "num_iters = 10\n",
    "theta_big = np.zeros((3, 1))\n",
    "theta_big, cost_history_big = gradient_descent(x_norm, y, \n",
    "                                    theta_big, alpha, num_iters)\n",
    "\n",
    "print(\"Theta using a learning rate of 1: \\n{}\".format(theta_big))"
   ]
  },
  {
   "cell_type": "markdown",
   "metadata": {},
   "source": [
    "Let's now plot the graph as we did before:"
   ]
  },
  {
   "cell_type": "code",
   "execution_count": 15,
   "metadata": {
    "scrolled": true
   },
   "outputs": [
    {
     "data": {
      "image/png": "[encoded data removed]",
      "text/plain": [
       "<Figure size 432x288 with 1 Axes>"
      ]
     },
     "metadata": {
      "needs_background": "light"
     },
     "output_type": "display_data"
    }
   ],
   "source": [
    "# Plot the convergence graph\n",
    "plt.plot([i for i in range(num_iters)], \n",
    "         cost_history_big, '-r', \n",
    "         label = 'Cost history using 2 as learning rate')\n",
    "plt.xlabel('Number of iterations') \n",
    "plt.ylabel('Cost J')\n",
    "plt.title('Cost behavior')\n",
    "plt.legend()\n",
    "plt.show()"
   ]
  },
  {
   "cell_type": "markdown",
   "metadata": {},
   "source": [
    "The opposite event occurs when we choose the learning rate to be very big (in this case it is $2$). In this case the algorithm will not only overshoot the minimum, but it will diverge completely. This can be seen in the graph, because **the cost increases as the number of iterations increases**. \n",
    "\n",
    "### Using a different initial condition\n",
    "An other thing that can modify the algorithm's convergence is the choice of the starting point given to the *gradient descent* algorithm. This happens for the nature of the algorithm, as it look for the descending direction of the gradient and goes into that direction. \n",
    "\n",
    "Let's try to use, as the initial condition, the values 1, 2 and 3 for the values $\\theta_0$, $\\theta_1$ and $\\theta_3$:"
   ]
  },
  {
   "cell_type": "code",
   "execution_count": 16,
   "metadata": {},
   "outputs": [
    {
     "name": "stdout",
     "output_type": "stream",
     "text": [
      "Theta using a learning rate of 1: \n",
      "[[-4.38885763e-08]\n",
      " [-9.41838069e+07]\n",
      " [-9.42998330e+07]]\n"
     ]
    }
   ],
   "source": [
    "alpha = .01\n",
    "num_iters = 1000\n",
    "theta = np.array([1, 2, 3]).reshape((3,1))\n",
    "theta, cost_history = gradient_descent(x_norm, y,\n",
    "                                theta, alpha, num_iters)\n",
    "\n",
    "print(\"Theta using a learning rate of 1: \\n{}\"\n",
    "      .format(theta_big))"
   ]
  },
  {
   "cell_type": "code",
   "execution_count": 17,
   "metadata": {},
   "outputs": [
    {
     "data": {
      "image/png": "[encoded data removed]",
      "text/plain": [
       "<Figure size 432x288 with 1 Axes>"
      ]
     },
     "metadata": {
      "needs_background": "light"
     },
     "output_type": "display_data"
    }
   ],
   "source": [
    "# Plot the convergence graph\n",
    "plt.plot([i for i in range(num_iters)], \n",
    "         cost_history, '-r', \n",
    "         label = 'Cost history using [1, 2, 3] as starting point')\n",
    "plt.xlabel('Number of iterations')\n",
    "plt.ylabel('Cost J')\n",
    "plt.title('Cost behavior')\n",
    "plt.legend()\n",
    "plt.show()"
   ]
  },
  {
   "cell_type": "markdown",
   "metadata": {},
   "source": [
    "In this case the convergence isn't affected from the choice of the starting point as our function to be optimized is a **bowl shaped** function, which means that it has only a local minimun and it is the global one.\n",
    "\n",
    "Different things could happen when the function to be optimized has different local and global minima, because it can happen that if we choose a starting point near to a local minimum, then it will be the one which will be reached, not the global one.\n",
    "\n",
    "To mitigate this problem, it is usually usefull to run the *gradient descent* algorithm using different choices of the starting point. After all of these runs, **the parameter with the smallest error attached will be chosen as the optimal one**."
   ]
  }
 ],
 "metadata": {
  "kernelspec": {
   "display_name": "Python 3",
   "language": "python",
   "name": "python3"
  },
  "language_info": {
   "codemirror_mode": {
    "name": "ipython",
    "version": 3
   },
   "file_extension": ".py",
   "mimetype": "text/x-python",
   "name": "python",
   "nbconvert_exporter": "python",
   "pygments_lexer": "ipython3",
   "version": "3.7.3"
  }
 },
 "nbformat": 4,
 "nbformat_minor": 2
}
